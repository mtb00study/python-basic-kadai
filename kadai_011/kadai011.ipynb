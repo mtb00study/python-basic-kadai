{
  "nbformat": 4,
  "nbformat_minor": 0,
  "metadata": {
    "colab": {
      "provenance": []
    },
    "kernelspec": {
      "name": "python3",
      "display_name": "Python 3"
    },
    "language_info": {
      "name": "python"
    }
  },
  "cells": [
    {
      "cell_type": "code",
      "execution_count": 1,
      "metadata": {
        "colab": {
          "base_uri": "https://localhost:8080/"
        },
        "id": "ruo9QlGRAkZ4",
        "outputId": "8eb97fc3-632d-4c17-87dc-8f2cc23bdf92"
      },
      "outputs": [
        {
          "output_type": "stream",
          "name": "stdout",
          "text": [
            "水\n",
            "金\n",
            "地\n",
            "火\n",
            "木\n",
            "土\n",
            "天\n",
            "海\n",
            "冥\n",
            "水\n",
            "金\n",
            "地\n",
            "火\n",
            "木\n",
            "土\n",
            "天\n",
            "海\n",
            "冥\n"
          ]
        }
      ],
      "source": [
        "array = [\"水\", \"金\", \"地\", \"火\", \"木\", \"土\", \"天\", \"海\", \"冥\"]\n",
        "\n",
        "#カウント用変数iの宣言\n",
        "i = 1\n",
        "#配列の値の出力を2回繰り返すためのwhile文\n",
        "while i < 3:\n",
        "\n",
        "#配列arrayの値を出力するためのfor文\n",
        "  for name in array:\n",
        "    print(name)\n",
        "  i = i + 1\n",
        "\n",
        "  if i >= 5:\n",
        "    print(\"5回目以降の出力処理となったため強制終了します。\")\n",
        "    break"
      ]
    }
  ]
}