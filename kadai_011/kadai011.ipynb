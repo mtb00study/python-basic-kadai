{
  "nbformat": 4,
  "nbformat_minor": 0,
  "metadata": {
    "colab": {
      "provenance": []
    },
    "kernelspec": {
      "name": "python3",
      "display_name": "Python 3"
    },
    "language_info": {
      "name": "python"
    }
  },
  "cells": [
    {
      "cell_type": "code",
      "execution_count": 3,
      "metadata": {
        "colab": {
          "base_uri": "https://localhost:8080/"
        },
        "id": "ruo9QlGRAkZ4",
        "outputId": "17462fad-d229-429a-a4f0-c6ee049c4254"
      },
      "outputs": [
        {
          "output_type": "stream",
          "name": "stdout",
          "text": [
            "水\n",
            "金\n",
            "地\n",
            "火\n",
            "木\n",
            "土\n",
            "天\n",
            "海\n",
            "冥\n",
            "水\n",
            "金\n",
            "地\n",
            "火\n",
            "木\n",
            "土\n",
            "天\n",
            "海\n",
            "冥\n"
          ]
        }
      ],
      "source": [
        "array = [\"水\", \"金\", \"地\", \"火\", \"木\", \"土\", \"天\", \"海\", \"冥\"]\n",
        "\n",
        "#配列arrayの値を出力するためのfor文\n",
        "for name in array:\n",
        "  print(name)\n",
        "\n",
        "#配列arrayの値を出力するためのwhile文\n",
        "#インデックス用変数iを宣言\n",
        "i = 0\n",
        "while i <= 8:\n",
        "  name = array[i]\n",
        "  print(name)\n",
        "  i = i + 1\n",
        "\n",
        "\n",
        "\n"
      ]
    }
  ]
}