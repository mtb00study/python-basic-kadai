{
  "nbformat": 4,
  "nbformat_minor": 0,
  "metadata": {
    "colab": {
      "provenance": []
    },
    "kernelspec": {
      "name": "python3",
      "display_name": "Python 3"
    },
    "language_info": {
      "name": "python"
    }
  },
  "cells": [
    {
      "cell_type": "code",
      "execution_count": 13,
      "metadata": {
        "colab": {
          "base_uri": "https://localhost:8080/"
        },
        "id": "ruo9QlGRAkZ4",
        "outputId": "f8c6b0c7-15d9-4ea6-929a-d97d1d92a202"
      },
      "outputs": [
        {
          "output_type": "stream",
          "name": "stdout",
          "text": [
            "for文での出力処理です。\n",
            "水\n",
            "金\n",
            "地\n",
            "火\n",
            "木\n",
            "土\n",
            "天\n",
            "海\n",
            "冥\n",
            "水\n",
            "金\n",
            "地\n",
            "火\n",
            "木\n",
            "土\n",
            "天\n",
            "海\n",
            "冥\n",
            "while文での出力処理です。\n",
            "水\n",
            "金\n",
            "地\n",
            "火\n",
            "木\n",
            "土\n",
            "天\n",
            "海\n",
            "冥\n",
            "水\n",
            "金\n",
            "地\n",
            "火\n",
            "木\n",
            "土\n",
            "天\n",
            "海\n",
            "冥\n"
          ]
        }
      ],
      "source": [
        "array = [\"水\", \"金\", \"地\", \"火\", \"木\", \"土\", \"天\", \"海\", \"冥\"]\n",
        "\n",
        "#for文で出力する処理\n",
        "print(\"for文での出力処理です。\")\n",
        "\n",
        "#配列の値の出力を2回繰り返すためのfor文\n",
        "for i in range(1, 3):\n",
        "\n",
        "#配列arrayの値を出力するためのfor文\n",
        "  for name in array:\n",
        "    print(name)\n",
        "\n",
        "\n",
        "#while文で出力する処理\n",
        "print(\"while文での出力処理です。\")\n",
        "\n",
        "#カウント用変数iの宣言\n",
        "i = 1\n",
        "#配列の値の出力を2回繰り返すためのwhile文\n",
        "while i < 3:\n",
        "\n",
        "#配列arrayの値を出力するためのfor文\n",
        "  for name in array:\n",
        "    print(name)\n",
        "  i = i + 1\n",
        "\n",
        "  if i >= 5:\n",
        "    print(\"5回目以降の出力処理となったため強制終了します。\")\n",
        "    break"
      ]
    }
  ]
}