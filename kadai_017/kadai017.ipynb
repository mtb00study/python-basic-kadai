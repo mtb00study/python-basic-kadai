{
  "nbformat": 4,
  "nbformat_minor": 0,
  "metadata": {
    "colab": {
      "provenance": []
    },
    "kernelspec": {
      "name": "python3",
      "display_name": "Python 3"
    },
    "language_info": {
      "name": "python"
    }
  },
  "cells": [
    {
      "cell_type": "code",
      "execution_count": 10,
      "metadata": {
        "colab": {
          "base_uri": "https://localhost:8080/"
        },
        "id": "nj6w8LP8Emmj",
        "outputId": "d89c5da8-a75f-42e4-ea5b-5432931119d6"
      },
      "outputs": [
        {
          "output_type": "stream",
          "name": "stdout",
          "text": [
            "侍太郎さんは大人です。\n",
            "侍花子さんは大人ではありません。\n",
            "侍二郎さんは大人です。\n"
          ]
        }
      ],
      "source": [
        "#クラスHumanの宣言\n",
        "class Human:\n",
        "#__init__メソッドの定義\n",
        "  def __init__(self, name, age):\n",
        "    self.name = name\n",
        "    self.age = age\n",
        "\n",
        "#check_adultメソッドの定義\n",
        "  def check_adult(self):\n",
        "    if self.age >= 20:\n",
        "      print(f\"{self.name}さんは大人です。\")\n",
        "    else:\n",
        "      print(f\"{self.name}さんは大人ではありません。\")\n",
        "\n",
        "#クラスHumanのインスタンス作成\n",
        "human1 = Human(\"侍太郎\", 25)\n",
        "human2 = Human(\"侍花子\",18)\n",
        "human3 = Human(\"侍二郎\", 20)\n",
        "#作成したインスタンスを配列に代入\n",
        "humans = [human1, human2, human3]\n",
        "\n",
        "#配列の値の数だけcheck_adultメソッドを実行\n",
        "for i_human in humans:\n",
        "  i_human.check_adult()\n",
        "\n"
      ]
    }
  ]
}