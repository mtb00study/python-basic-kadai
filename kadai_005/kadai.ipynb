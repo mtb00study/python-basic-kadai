{
  "nbformat": 4,
  "nbformat_minor": 0,
  "metadata": {
    "colab": {
      "provenance": []
    },
    "kernelspec": {
      "name": "python3",
      "display_name": "Python 3"
    },
    "language_info": {
      "name": "python"
    }
  },
  "cells": [
    {
      "cell_type": "code",
      "execution_count": 1,
      "metadata": {
        "colab": {
          "base_uri": "https://localhost:8080/"
        },
        "id": "jIx6j0ZIiBmh",
        "outputId": "c6573887-6663-4756-caa6-62d9f3924912"
      },
      "outputs": [
        {
          "output_type": "stream",
          "name": "stdout",
          "text": [
            "台形の面積は75.0㎠です。\n"
          ]
        }
      ],
      "source": [
        "\"\"\"\n",
        "上辺：10cm\n",
        "下辺：20cm\n",
        "高さ：5cm\n",
        "\n",
        "公式：台形の面積 = (上辺 + 下辺) * 高さ /2\n",
        "\"\"\"\n",
        "johen = 10\n",
        "kahen = 20\n",
        "takasa = 5\n",
        "kekka = (johen + kahen) * takasa / 2\n",
        "\n",
        "print(f\"台形の面積は{kekka}㎠です。\")"
      ]
    }
  ]
}