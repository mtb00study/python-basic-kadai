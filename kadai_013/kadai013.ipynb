{
  "nbformat": 4,
  "nbformat_minor": 0,
  "metadata": {
    "colab": {
      "provenance": []
    },
    "kernelspec": {
      "name": "python3",
      "display_name": "Python 3"
    },
    "language_info": {
      "name": "python"
    }
  },
  "cells": [
    {
      "cell_type": "code",
      "execution_count": 5,
      "metadata": {
        "colab": {
          "base_uri": "https://localhost:8080/"
        },
        "id": "TGBU2VTShs_B",
        "outputId": "35a2e08e-f829-4440-d187-552657bdab2a"
      },
      "outputs": [
        {
          "output_type": "stream",
          "name": "stdout",
          "text": [
            "1500円の商品の税込み価格は1650.0円です。\n"
          ]
        }
      ],
      "source": [
        "#消費税10%を設定\n",
        "shohizei = 0.1\n",
        "#税込み金額totalを定義\n",
        "total = 0\n",
        "#消費税を加算するための関数を定義\n",
        "def add_shohizei(price, shohizei):\n",
        "  total = price + price * shohizei\n",
        "  return total\n",
        "\n",
        "#関数add_shohizeiを実行し、戻り値を変数totalに代入\n",
        "total = add_shohizei(1500, shohizei)\n",
        "#計算結果を出力\n",
        "print(f\"1500円の商品の税込み価格は{total}円です。\")\n"
      ]
    }
  ]
}