{
  "nbformat": 4,
  "nbformat_minor": 0,
  "metadata": {
    "colab": {
      "provenance": []
    },
    "kernelspec": {
      "name": "python3",
      "display_name": "Python 3"
    },
    "language_info": {
      "name": "python"
    }
  },
  "cells": [
    {
      "cell_type": "code",
      "execution_count": 2,
      "metadata": {
        "colab": {
          "base_uri": "https://localhost:8080/"
        },
        "id": "GMBIiwEEplcP",
        "outputId": "67f119f7-e595-418e-f55e-905adc82914c"
      },
      "outputs": [
        {
          "output_type": "stream",
          "name": "stdout",
          "text": [
            "330.0\n"
          ]
        }
      ],
      "source": [
        "price1 = 100\n",
        "price2 = 200\n",
        "#変数taxをグローバル変数として宣言\n",
        "tax = 1.1\n",
        "\n",
        "def total():\n",
        "  #変数taxは関数内では不要なためコメントアウト\n",
        "  #tax = 1.1\n",
        "  return price1 + price2\n",
        "\n",
        "#変数taxはグローバル変数として宣言したため、グローバルスコープ内で使用可能。print関数の記述は修正しない\n",
        "print(total() * tax)"
      ]
    }
  ]
}