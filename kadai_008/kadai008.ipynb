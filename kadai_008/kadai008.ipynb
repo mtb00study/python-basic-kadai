{
  "nbformat": 4,
  "nbformat_minor": 0,
  "metadata": {
    "colab": {
      "provenance": []
    },
    "kernelspec": {
      "name": "python3",
      "display_name": "Python 3"
    },
    "language_info": {
      "name": "python"
    }
  },
  "cells": [
    {
      "cell_type": "code",
      "execution_count": 22,
      "metadata": {
        "colab": {
          "base_uri": "https://localhost:8080/"
        },
        "id": "1Fwt6wN6tcrk",
        "outputId": "66d2eb65-0696-4906-8deb-c189845b5e91"
      },
      "outputs": [
        {
          "output_type": "stream",
          "name": "stdout",
          "text": [
            "Fizz\n"
          ]
        }
      ],
      "source": [
        "#変数varに3の倍数を代入\n",
        "var = 3\n",
        "#変数varに5の倍数を代入\n",
        "#var = 10\n",
        "#変数varに3と5の両方の倍数を代入\n",
        "#var = 15\n",
        "\n",
        "#変数varが3の倍数の場合\n",
        "if var % 3 ==0:\n",
        "\n",
        "#変数kekkaに出力する文章「Fizz」を代入\n",
        "    kekka = \"Fizz\"\n",
        "\n",
        "#変数varが3の倍数と5の倍数の両方に該当する場合は「FizzBuzz」を出力\n",
        "    if var % 5 == 0:\n",
        "#変数kekkaに出力する文章「FizzBuzz」を代入\n",
        "        kekka = \"FizzBuzz\"\n",
        "\n",
        "\n",
        "#変数kekkaの値を出力\n",
        "    print(kekka)\n",
        "\n",
        "\n",
        "\n",
        "#変数varが5の倍数の場合は「Buzz」を出力\n",
        "elif var % 5 == 0:\n",
        "\n",
        "#変数kekkaに出力する文章「Buzz」を代入\n",
        "    kekka = \"Buzz\"\n",
        "\n",
        "\n",
        "#変数varが3の倍数と5の倍数の両方に該当する場合は「FizzBuzz」を出力\n",
        "    if var % 3 == 0:\n",
        "#変数kekkaに出力する文章「FizzBuzz」を代入\n",
        "        kekka = \"FizzBuzz\"\n",
        "\n",
        "\n",
        "#変数kekkaの値を出力\n",
        "    print(kekka)\n",
        "\n",
        "#上記のどの場合にも該当しない場合は、変数varの値を出力\n",
        "else:\n",
        "    print(var)\n"
      ]
    }
  ]
}